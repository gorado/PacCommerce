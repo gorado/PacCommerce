{
  "nbformat": 4,
  "nbformat_minor": 0,
  "metadata": {
    "colab": {
      "provenance": [],
      "authorship_tag": "ABX9TyNTDfHEV7yxwv92lgysfzhe",
      "include_colab_link": true
    },
    "kernelspec": {
      "name": "python3",
      "display_name": "Python 3"
    },
    "language_info": {
      "name": "python"
    }
  },
  "cells": [
    {
      "cell_type": "markdown",
      "metadata": {
        "id": "view-in-github",
        "colab_type": "text"
      },
      "source": [
        "<a href=\"https://colab.research.google.com/github/gorado/PacCommerce/blob/main/User.ipynb\" target=\"_parent\"><img src=\"https://colab.research.google.com/assets/colab-badge.svg\" alt=\"Open In Colab\"/></a>"
      ]
    },
    {
      "cell_type": "code",
      "source": [
        "# untuk membuat table\n",
        "from tabulate import tabulate\n",
        "# square root, untuk menghitung euckudean distance\n",
        "from math import sqrt\n",
        "import math"
      ],
      "metadata": {
        "id": "t77KDPmIKTbE"
      },
      "execution_count": null,
      "outputs": []
    },
    {
      "cell_type": "code",
      "source": [
        "from re import M\n",
        "class User:\n",
        "  def __init__(self, username):\n",
        "    self.username = username\n",
        "    self.montly_expense = monthly_expense\n",
        "    self.monthly_income = monthly_income\n",
        "    self.membership = membership\n",
        "\n",
        "  def show_benefit(self):\n",
        "    pass\n",
        "\n"
      ],
      "metadata": {
        "id": "X12zuqcJKvrV"
      },
      "execution_count": null,
      "outputs": []
    },
    {
      "cell_type": "code",
      "source": [],
      "metadata": {
        "id": "HvGZcpZOMHZB"
      },
      "execution_count": null,
      "outputs": []
    }
  ]
}